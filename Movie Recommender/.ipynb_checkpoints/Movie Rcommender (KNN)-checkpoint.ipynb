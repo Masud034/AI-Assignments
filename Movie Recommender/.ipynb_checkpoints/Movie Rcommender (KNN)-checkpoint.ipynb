{
 "cells": [
  {
   "cell_type": "code",
   "execution_count": 2,
   "metadata": {},
   "outputs": [],
   "source": [
    "import numpy as np\n",
    "import pandas as pd\n",
    "import matplotlib.pyplot as plt"
   ]
  },
  {
   "cell_type": "code",
   "execution_count": 54,
   "metadata": {},
   "outputs": [],
   "source": [
    "data = pd.read_csv('movies_recommendation_data.csv', index_col=1, header=0)"
   ]
  },
  {
   "cell_type": "code",
   "execution_count": 122,
   "metadata": {},
   "outputs": [],
   "source": [
    "# 60% of the data assigned to the train set\n",
    "train_set = data[:18]\n",
    "\n",
    "# 40% of the data assigned to the test set\n",
    "test_set = data[18:len(data)]"
   ]
  },
  {
   "cell_type": "code",
   "execution_count": 125,
   "metadata": {},
   "outputs": [],
   "source": [
    "# Euclidean distance\n",
    "def calculate_distance(movie1, movie2):\n",
    "    \n",
    "    imdb_distance = (movie2[\"IMDB Rating\"] - movie1[\"IMDB Rating\"])**2 \n",
    "    \n",
    "    biography_distance = (movie2[\"Biography\"] - movie1[\"Biography\"])**2\n",
    "    \n",
    "    drama_distance = (movie2[\"Drama\"] - movie1[\"Drama\"])**2\n",
    "    \n",
    "    thriller_distance = (movie2[\"Thriller\"] - movie1[\"Thriller\"])**2\n",
    "    \n",
    "    comedy_distance = (movie2[\"Comedy\"] - movie1[\"Comedy\"])**2\n",
    "    \n",
    "    crime_distance = (movie2[\"Crime\"] - movie1[\"Crime\"])**2\n",
    "    \n",
    "    mystery_distance = (movie2[\"Mystery\"] - movie1[\"Mystery\"])**2\n",
    "    \n",
    "    history_distance = (movie2[\"History\"] - movie1[\"History\"])**2\n",
    "    \n",
    "    total_distance = np.sqrt(imdb_distance + biography_distance + drama_distance\n",
    "                         + thriller_distance + comedy_distance + crime_distance\n",
    "                         + mystery_distance + history_distance)\n",
    "    \n",
    "    return total_distance"
   ]
  },
  {
   "cell_type": "code",
   "execution_count": 127,
   "metadata": {},
   "outputs": [],
   "source": [
    "query = \"Thor: Ragnarok\"\n",
    "k = 5\n",
    "\n",
    "# to insert the neighbor distances\n",
    "ordered_collection = []\n",
    "\n",
    "#KNN Algorithm\n",
    "for name in train_set.index:\n",
    "\n",
    "    current_example = train_set.loc[name]\n",
    "    \n",
    "    query_example = test_set.loc[query]\n",
    "    \n",
    "    distance = calculate_distance(current_example, query_example)\n",
    "    \n",
    "    ordered_collection.append({\"name\": name, \"distance\": distance})\n"
   ]
  },
  {
   "cell_type": "code",
   "execution_count": 1,
   "metadata": {},
   "outputs": [
    {
     "ename": "SyntaxError",
     "evalue": "invalid syntax (<ipython-input-1-8bd2369540e2>, line 6)",
     "output_type": "error",
     "traceback": [
      "\u001b[1;36m  File \u001b[1;32m\"<ipython-input-1-8bd2369540e2>\"\u001b[1;36m, line \u001b[1;32m6\u001b[0m\n\u001b[1;33m    print(f\"{ordered_collection[i][\"name\"]} {ordered_collection[i][\"distance\"]}\")\u001b[0m\n\u001b[1;37m                                       ^\u001b[0m\n\u001b[1;31mSyntaxError\u001b[0m\u001b[1;31m:\u001b[0m invalid syntax\n"
     ]
    }
   ],
   "source": [
    "# Sorting the ordered collection\n",
    "ordered_collection = sorted(ordered_collection, key = lambda i: i[\"distance\"])\n",
    "\n",
    "# picking K entries from the sorted collection\n",
    "for i in range(k):\n",
    "    print(f\"{ordered_collection[i][\"name\"]}\")"
   ]
  }
 ],
 "metadata": {
  "kernelspec": {
   "display_name": "Python 3",
   "language": "python",
   "name": "python3"
  },
  "language_info": {
   "codemirror_mode": {
    "name": "ipython",
    "version": 3
   },
   "file_extension": ".py",
   "mimetype": "text/x-python",
   "name": "python",
   "nbconvert_exporter": "python",
   "pygments_lexer": "ipython3",
   "version": "3.7.4"
  }
 },
 "nbformat": 4,
 "nbformat_minor": 2
}
